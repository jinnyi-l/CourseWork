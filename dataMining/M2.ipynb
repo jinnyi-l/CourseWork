{
 "cells": [
  {
   "cell_type": "code",
   "execution_count": 4,
   "id": "f4f0dbbd-1c8d-4346-96e8-cc2db39d336a",
   "metadata": {
    "scrolled": true
   },
   "outputs": [
    {
     "name": "stdout",
     "output_type": "stream",
     "text": [
      "    UserId                       Query horse http photos in  a up the company  \\\n",
      "0  2304236    washington state lottery     f    f      f  f  f  f   f       f   \n",
      "1  7832793  jc justin been throwing up     f    f      f  f  f  t   f       f   \n",
      "2  9167300        terrace at greenhill     f    f      f  f  f  f   f       f   \n",
      "3    55733           vegas sports line     f    f      f  f  f  f   f       f   \n",
      "4  2686572           the disabled list     f    f      f  f  f  f   t       f   \n",
      "\n",
      "   ... houston why yahoo louis tn maine test local tennessee santa  \n",
      "0  ...       f   f     f     f  f     f    f     f         f     f  \n",
      "1  ...       f   f     f     f  f     f    f     f         f     f  \n",
      "2  ...       f   f     f     f  f     f    f     f         f     f  \n",
      "3  ...       f   f     f     f  f     f    f     f         f     f  \n",
      "4  ...       f   f     f     f  f     f    f     f         f     f  \n",
      "\n",
      "[5 rows x 502 columns]\n",
      "Number of rows before removing duplicates: 9999\n",
      "Number of rows after removing duplicates: 9816\n"
     ]
    }
   ],
   "source": [
    "# task 1: read file and preprocessing \n",
    "\n",
    "import pandas as pd\n",
    "df = pd.read_csv('www.csv', sep='\\t')\n",
    "print(df.head())\n",
    "\n",
    "df.loc[:, df.isnull().any()]\n",
    "print('Number of rows before removing duplicates:', len(df)) \n",
    "df = df.drop_duplicates('Query', keep='first') \n",
    "df.reset_index(drop=True, inplace=True)\n",
    "print('Number of rows after removing duplicates:', len(df))"
   ]
  },
  {
   "cell_type": "code",
   "execution_count": 5,
   "id": "1cfe02a6-ab1b-47aa-8a34-8cf48e4eb566",
   "metadata": {},
   "outputs": [
    {
     "ename": "ModuleNotFoundError",
     "evalue": "No module named 'pyfpgrowth'",
     "output_type": "error",
     "traceback": [
      "\u001b[0;31m---------------------------------------------------------------------------\u001b[0m",
      "\u001b[0;31mModuleNotFoundError\u001b[0m                       Traceback (most recent call last)",
      "Cell \u001b[0;32mIn[5], line 3\u001b[0m\n\u001b[1;32m      1\u001b[0m \u001b[38;5;66;03m#Task 2 generate frequent itemsets\u001b[39;00m\n\u001b[0;32m----> 3\u001b[0m \u001b[38;5;28;01mimport\u001b[39;00m \u001b[38;5;21;01mpyfpgrowth\u001b[39;00m\n\u001b[1;32m      5\u001b[0m associations \u001b[38;5;241m=\u001b[39m df[\u001b[38;5;124m'\u001b[39m\u001b[38;5;124mQuery\u001b[39m\u001b[38;5;124m'\u001b[39m]\u001b[38;5;241m.\u001b[39mapply(\u001b[38;5;28;01mlambda\u001b[39;00m x: x\u001b[38;5;241m.\u001b[39msplit())\u001b[38;5;241m.\u001b[39mtolist() \u001b[38;5;66;03m#split the column into a list of a lsit of string\u001b[39;00m\n\u001b[1;32m      6\u001b[0m num_records \u001b[38;5;241m=\u001b[39m \u001b[38;5;28mlen\u001b[39m(associations)\n",
      "\u001b[0;31mModuleNotFoundError\u001b[0m: No module named 'pyfpgrowth'"
     ]
    }
   ],
   "source": [
    "#Task 2 generate frequent itemsets\n",
    "\n",
    "import pyfpgrowth\n",
    "\n",
    "associations = df['Query'].apply(lambda x: x.split()).tolist() #split the column into a list of a lsit of string\n",
    "num_records = len(associations)"
   ]
  },
  {
   "cell_type": "code",
   "execution_count": 17,
   "id": "cc1fa62f-b5ec-471e-baa7-57acbe29e52e",
   "metadata": {},
   "outputs": [
    {
     "name": "stdout",
     "output_type": "stream",
     "text": [
      "Minimum support: 0.010187449062754686\n"
     ]
    },
    {
     "data": {
      "text/plain": [
       "{('high',): 101,\n",
       " ('with',): 104,\n",
       " ('my',): 110,\n",
       " ('home',): 113,\n",
       " ('you',): 117,\n",
       " ('i',): 117,\n",
       " ('is',): 118,\n",
       " ('state',): 123,\n",
       " ('what',): 128,\n",
       " ('city',): 132,\n",
       " ('florida',): 136,\n",
       " ('school',): 154,\n",
       " ('lyrics',): 175,\n",
       " ('how',): 178,\n",
       " ('how', 'to'): 130,\n",
       " ('new',): 222,\n",
       " ('http',): 224,\n",
       " ('free',): 225,\n",
       " ('on',): 232,\n",
       " ('county',): 237,\n",
       " ('a',): 340,\n",
       " ('to',): 426,\n",
       " ('and',): 546,\n",
       " ('for',): 553,\n",
       " ('in', 'the'): 117,\n",
       " ('of', 'the'): 207,\n",
       " ('in',): 844,\n",
       " ('of',): 955}"
      ]
     },
     "execution_count": 17,
     "metadata": {},
     "output_type": "execute_result"
    }
   ],
   "source": [
    "sigma = 100\n",
    "min_support = sigma / num_records \n",
    "print(f\"Minimum support: {min_support}\")\n",
    "# the function find_frequent_patterns takes SIGMA as second parameter\n",
    "patterns = pyfpgrowth.find_frequent_patterns(associations, sigma) \n",
    "patterns"
   ]
  },
  {
   "cell_type": "code",
   "execution_count": 21,
   "id": "f83129d9-88e8-4c39-8f24-902aa0f01a75",
   "metadata": {},
   "outputs": [
    {
     "name": "stdout",
     "output_type": "stream",
     "text": [
      "Number of frequent itemsets: 28\n",
      "Maximum size of frequent itemsets: 2\n",
      "Number of frequent itemsets: 28\n",
      "Maximum size of frequent itemsets: 2\n"
     ]
    }
   ],
   "source": [
    "# number of frequent itemsets found\n",
    "num_frequent_itemsets = len(patterns) # maximum size of frequent itemsets\n",
    "max_itemset_size = max(len(itemset) for itemset in patterns)\n",
    "print(f'Number of frequent itemsets: {num_frequent_itemsets}') \n",
    "print(f'Maximum size of frequent itemsets: {max_itemset_size}')\n",
    "\n",
    "num_frequent_itemsets = len(patterns)\n",
    "print(f'Number of frequent itemsets: {num_frequent_itemsets}')"
   ]
  },
  {
   "cell_type": "code",
   "execution_count": 1,
   "id": "eecd009d-6c52-491a-917c-03149bacc24a",
   "metadata": {},
   "outputs": [
    {
     "ename": "NameError",
     "evalue": "name 'associations' is not defined",
     "output_type": "error",
     "traceback": [
      "\u001b[0;31m---------------------------------------------------------------------------\u001b[0m",
      "\u001b[0;31mNameError\u001b[0m                                 Traceback (most recent call last)",
      "Cell \u001b[0;32mIn[1], line 8\u001b[0m\n\u001b[1;32m      5\u001b[0m     patterns \u001b[38;5;241m=\u001b[39m pyfpgrowth\u001b[38;5;241m.\u001b[39mfind_frequent_patterns(associations, sigma)\n\u001b[1;32m      6\u001b[0m     \u001b[38;5;28;01mreturn\u001b[39;00m \u001b[38;5;28mlen\u001b[39m(patterns), patterns\n\u001b[0;32m----> 8\u001b[0m \u001b[38;5;28mprint\u001b[39m(\u001b[43mfind_frequent_itemsets\u001b[49m\u001b[43m(\u001b[49m\u001b[38;5;241;43m0.001\u001b[39;49m\u001b[43m)\u001b[49m)\n",
      "Cell \u001b[0;32mIn[1], line 4\u001b[0m, in \u001b[0;36mfind_frequent_itemsets\u001b[0;34m(min_support)\u001b[0m\n\u001b[1;32m      3\u001b[0m \u001b[38;5;28;01mdef\u001b[39;00m \u001b[38;5;21mfind_frequent_itemsets\u001b[39m(min_support):\n\u001b[0;32m----> 4\u001b[0m     sigma \u001b[38;5;241m=\u001b[39m \u001b[38;5;28mint\u001b[39m(min_support \u001b[38;5;241m*\u001b[39m \u001b[38;5;28mlen\u001b[39m(\u001b[43massociations\u001b[49m))\n\u001b[1;32m      5\u001b[0m     patterns \u001b[38;5;241m=\u001b[39m pyfpgrowth\u001b[38;5;241m.\u001b[39mfind_frequent_patterns(associations, sigma)\n\u001b[1;32m      6\u001b[0m     \u001b[38;5;28;01mreturn\u001b[39;00m \u001b[38;5;28mlen\u001b[39m(patterns), patterns\n",
      "\u001b[0;31mNameError\u001b[0m: name 'associations' is not defined"
     ]
    }
   ],
   "source": [
    "#Task3 impact of the support parameter \n",
    "\n",
    "def find_frequent_itemsets(min_support):\n",
    "    sigma = int(min_support * len(associations))\n",
    "    patterns = pyfpgrowth.find_frequent_patterns(associations, sigma)\n",
    "    return len(patterns), patterns\n",
    "\n",
    "print(find_frequent_itemsets(0.001))"
   ]
  }
 ],
 "metadata": {
  "kernelspec": {
   "display_name": "Python 3",
   "language": "python",
   "name": "python3"
  },
  "language_info": {
   "codemirror_mode": {
    "name": "ipython",
    "version": 3
   },
   "file_extension": ".py",
   "mimetype": "text/x-python",
   "name": "python",
   "nbconvert_exporter": "python",
   "pygments_lexer": "ipython3",
   "version": "3.12.5"
  }
 },
 "nbformat": 4,
 "nbformat_minor": 5
}
